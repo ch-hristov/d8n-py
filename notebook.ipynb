{
 "cells": [
  {
   "cell_type": "code",
   "execution_count": 2,
   "id": "d6c57ee3",
   "metadata": {},
   "outputs": [
    {
     "name": "stdout",
     "output_type": "stream",
     "text": [
      "Collecting d8n==0.3.1\n",
      "  Obtaining dependency information for d8n==0.3.1 from https://files.pythonhosted.org/packages/f5/dc/bf9fb90eae2a59d809469214aedd87dec51936c52467ae1ea0c7162267e3/d8n-0.3.1-py3-none-any.whl.metadata\n",
      "  Downloading d8n-0.3.1-py3-none-any.whl.metadata (304 bytes)\n",
      "Downloading d8n-0.3.1-py3-none-any.whl (3.3 kB)\n",
      "Installing collected packages: d8n\n",
      "  Attempting uninstall: d8n\n",
      "    Found existing installation: d8n 0.2.9\n",
      "    Uninstalling d8n-0.2.9:\n",
      "      Successfully uninstalled d8n-0.2.9\n",
      "Successfully installed d8n-0.3.1\n"
     ]
    }
   ],
   "source": [
    "!pip install d8n==0.3.1"
   ]
  },
  {
   "cell_type": "code",
   "execution_count": 3,
   "id": "a37a7278",
   "metadata": {},
   "outputs": [],
   "source": [
    "from d8n.d8nClient import d8nClient\n",
    "\n",
    "client = d8nClient('MY-API-KEY')\n",
    "request = client.from_local_file('./large.jpg')"
   ]
  },
  {
   "cell_type": "code",
   "execution_count": 4,
   "id": "dbd53764",
   "metadata": {},
   "outputs": [],
   "source": [
    "client.wait_till_completed(request.id)"
   ]
  },
  {
   "cell_type": "code",
   "execution_count": 27,
   "id": "3602047b",
   "metadata": {},
   "outputs": [],
   "source": [
    "client.get_line_image(request.id).show()"
   ]
  },
  {
   "cell_type": "code",
   "execution_count": null,
   "id": "528558be",
   "metadata": {},
   "outputs": [],
   "source": [
    "client.get_symbol_image(request.id).show()"
   ]
  },
  {
   "cell_type": "code",
   "execution_count": 32,
   "id": "73f260cd",
   "metadata": {},
   "outputs": [
    {
     "name": "stdout",
     "output_type": "stream",
     "text": [
      "d8nCompleteResult(prediction_id='3bae1722-85b8-4630-8d8b-ecee250d33de', _class='31.0', x1=0.7497267723083496, y1=0.5378516316413879, x2=0.8164287805557251, y2=0.6318146586418152, confidence=0.9680153727531433, type='symbol', text='[]')\n"
     ]
    }
   ],
   "source": [
    "all_results = client.get_completed(request.id)\n",
    "symbols = [x for x in all_results if x.type == 'symbol']\n",
    "print(symbols[0])"
   ]
  },
  {
   "cell_type": "code",
   "execution_count": null,
   "id": "0424afab",
   "metadata": {},
   "outputs": [],
   "source": []
  },
  {
   "cell_type": "code",
   "execution_count": null,
   "id": "490612b1",
   "metadata": {},
   "outputs": [],
   "source": []
  }
 ],
 "metadata": {
  "kernelspec": {
   "display_name": "d8n",
   "language": "python",
   "name": "python3"
  },
  "language_info": {
   "codemirror_mode": {
    "name": "ipython",
    "version": 3
   },
   "file_extension": ".py",
   "mimetype": "text/x-python",
   "name": "python",
   "nbconvert_exporter": "python",
   "pygments_lexer": "ipython3",
   "version": "3.11.5"
  }
 },
 "nbformat": 4,
 "nbformat_minor": 5
}
